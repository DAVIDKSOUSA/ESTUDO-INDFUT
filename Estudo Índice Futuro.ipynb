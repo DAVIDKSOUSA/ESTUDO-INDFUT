{
  "nbformat": 4,
  "nbformat_minor": 0,
  "metadata": {
    "colab": {
      "name": "Untitled1.ipynb",
      "provenance": [],
      "authorship_tag": "ABX9TyOtpQ3XKFJw0nWnybeeBW4c",
      "include_colab_link": true
    },
    "kernelspec": {
      "name": "python3",
      "display_name": "Python 3"
    }
  },
  "cells": [
    {
      "cell_type": "markdown",
      "metadata": {
        "id": "view-in-github",
        "colab_type": "text"
      },
      "source": [
        "<a href=\"https://colab.research.google.com/github/DAVIDKSOUSA/ESTUDO-INDFUT/blob/master/Estudo%20%C3%8Dndice%20Futuro.ipynb\" target=\"_parent\"><img src=\"https://colab.research.google.com/assets/colab-badge.svg\" alt=\"Open In Colab\"/></a>"
      ]
    },
    {
      "cell_type": "markdown",
      "metadata": {
        "id": "rRo3NhkbGaRg",
        "colab_type": "text"
      },
      "source": [
        "#Estudo Estatístico do INDFUT\n",
        "\n",
        "Esse estudo irá trazer *insights* sobre as oscilações de preçoes no ÍNDICE FUTURO do Ibovespa (INDFUT)."
      ]
    },
    {
      "cell_type": "code",
      "metadata": {
        "id": "FyEdbr_e931G",
        "colab_type": "code",
        "outputId": "0a790e95-523d-4a9b-e8ce-d66f8d7b8467",
        "colab": {
          "base_uri": "https://localhost:8080/",
          "height": 235
        }
      },
      "source": [
        "#importação de bibliotecas.\n",
        "import pandas as pd\n",
        "import numpy as np\n",
        "import matplotlib.pyplot as plt\n",
        "\n",
        "df = pd.read_excel(\"https://github.com/DAVIDKSOUSA/ESTUDO-INDFUT/blob/master/DataFrame%20INDFUT.xlsx?raw=true\", parse_dates=True, index_col = \"Data\")\n",
        "df.head(5)"
      ],
      "execution_count": 114,
      "outputs": [
        {
          "output_type": "execute_result",
          "data": {
            "text/html": [
              "<div>\n",
              "<style scoped>\n",
              "    .dataframe tbody tr th:only-of-type {\n",
              "        vertical-align: middle;\n",
              "    }\n",
              "\n",
              "    .dataframe tbody tr th {\n",
              "        vertical-align: top;\n",
              "    }\n",
              "\n",
              "    .dataframe thead th {\n",
              "        text-align: right;\n",
              "    }\n",
              "</style>\n",
              "<table border=\"1\" class=\"dataframe\">\n",
              "  <thead>\n",
              "    <tr style=\"text-align: right;\">\n",
              "      <th></th>\n",
              "      <th>Abertura</th>\n",
              "      <th>Máxima</th>\n",
              "      <th>Mínima</th>\n",
              "      <th>Fechamento</th>\n",
              "      <th>VWAP D</th>\n",
              "      <th>VWAP S</th>\n",
              "      <th>Variação Diária</th>\n",
              "      <th>Variação Candle</th>\n",
              "      <th>Volatilidade Intraday</th>\n",
              "      <th>Amplitude Diária</th>\n",
              "      <th>Variação Candle.1</th>\n",
              "    </tr>\n",
              "    <tr>\n",
              "      <th>Data</th>\n",
              "      <th></th>\n",
              "      <th></th>\n",
              "      <th></th>\n",
              "      <th></th>\n",
              "      <th></th>\n",
              "      <th></th>\n",
              "      <th></th>\n",
              "      <th></th>\n",
              "      <th></th>\n",
              "      <th></th>\n",
              "      <th></th>\n",
              "    </tr>\n",
              "  </thead>\n",
              "  <tbody>\n",
              "    <tr>\n",
              "      <th>2020-03-27</th>\n",
              "      <td>74860.0</td>\n",
              "      <td>75800.0</td>\n",
              "      <td>72510.0</td>\n",
              "      <td>73325.0</td>\n",
              "      <td>74054.44</td>\n",
              "      <td>71809.11</td>\n",
              "      <td>-0.055516</td>\n",
              "      <td>0.020505</td>\n",
              "      <td>3290.0</td>\n",
              "      <td>-4310.0</td>\n",
              "      <td>1535.0</td>\n",
              "    </tr>\n",
              "    <tr>\n",
              "      <th>2020-03-26</th>\n",
              "      <td>72890.0</td>\n",
              "      <td>78850.0</td>\n",
              "      <td>72225.0</td>\n",
              "      <td>77635.0</td>\n",
              "      <td>76897.06</td>\n",
              "      <td>71378.13</td>\n",
              "      <td>0.040684</td>\n",
              "      <td>-0.065098</td>\n",
              "      <td>6625.0</td>\n",
              "      <td>3035.0</td>\n",
              "      <td>-4745.0</td>\n",
              "    </tr>\n",
              "    <tr>\n",
              "      <th>2020-03-25</th>\n",
              "      <td>68890.0</td>\n",
              "      <td>76890.0</td>\n",
              "      <td>67700.0</td>\n",
              "      <td>74600.0</td>\n",
              "      <td>73051.18</td>\n",
              "      <td>69466.39</td>\n",
              "      <td>0.081159</td>\n",
              "      <td>-0.082886</td>\n",
              "      <td>9190.0</td>\n",
              "      <td>5600.0</td>\n",
              "      <td>-5710.0</td>\n",
              "    </tr>\n",
              "    <tr>\n",
              "      <th>2020-03-24</th>\n",
              "      <td>67990.0</td>\n",
              "      <td>71575.0</td>\n",
              "      <td>66675.0</td>\n",
              "      <td>69000.0</td>\n",
              "      <td>69581.26</td>\n",
              "      <td>67054.81</td>\n",
              "      <td>0.080404</td>\n",
              "      <td>-0.014855</td>\n",
              "      <td>4900.0</td>\n",
              "      <td>5135.0</td>\n",
              "      <td>-1010.0</td>\n",
              "    </tr>\n",
              "    <tr>\n",
              "      <th>2020-03-23</th>\n",
              "      <td>64295.0</td>\n",
              "      <td>69990.0</td>\n",
              "      <td>61905.0</td>\n",
              "      <td>63865.0</td>\n",
              "      <td>64274.68</td>\n",
              "      <td>65253.33</td>\n",
              "      <td>-0.035272</td>\n",
              "      <td>0.006688</td>\n",
              "      <td>8085.0</td>\n",
              "      <td>-2335.0</td>\n",
              "      <td>430.0</td>\n",
              "    </tr>\n",
              "  </tbody>\n",
              "</table>\n",
              "</div>"
            ],
            "text/plain": [
              "            Abertura   Máxima  ...  Amplitude Diária  Variação Candle.1\n",
              "Data                           ...                                     \n",
              "2020-03-27   74860.0  75800.0  ...           -4310.0             1535.0\n",
              "2020-03-26   72890.0  78850.0  ...            3035.0            -4745.0\n",
              "2020-03-25   68890.0  76890.0  ...            5600.0            -5710.0\n",
              "2020-03-24   67990.0  71575.0  ...            5135.0            -1010.0\n",
              "2020-03-23   64295.0  69990.0  ...           -2335.0              430.0\n",
              "\n",
              "[5 rows x 11 columns]"
            ]
          },
          "metadata": {
            "tags": []
          },
          "execution_count": 114
        }
      ]
    },
    {
      "cell_type": "code",
      "metadata": {
        "id": "3ntxHWO--Cjm",
        "colab_type": "code",
        "outputId": "c3fe8045-c008-4646-a63a-3dd1dc29a3fd",
        "colab": {
          "base_uri": "https://localhost:8080/",
          "height": 221
        }
      },
      "source": [
        "#Análise do tipos de variáveis do meu DataFrame.\n",
        "df.dtypes"
      ],
      "execution_count": 115,
      "outputs": [
        {
          "output_type": "execute_result",
          "data": {
            "text/plain": [
              "Abertura                 float64\n",
              "Máxima                   float64\n",
              "Mínima                   float64\n",
              "Fechamento               float64\n",
              "VWAP D                   float64\n",
              "VWAP S                   float64\n",
              "Variação Diária          float64\n",
              "Variação Candle          float64\n",
              "Volatilidade Intraday    float64\n",
              "Amplitude Diária         float64\n",
              "Variação Candle.1        float64\n",
              "dtype: object"
            ]
          },
          "metadata": {
            "tags": []
          },
          "execution_count": 115
        }
      ]
    },
    {
      "cell_type": "code",
      "metadata": {
        "id": "S2ydIdOfHaIX",
        "colab_type": "code",
        "outputId": "8c551673-ea9f-4153-9ef5-03d616f604a3",
        "colab": {
          "base_uri": "https://localhost:8080/",
          "height": 221
        }
      },
      "source": [
        "#Verificação de valores ausentes.\n",
        "\n",
        "df.isnull().sum()"
      ],
      "execution_count": 116,
      "outputs": [
        {
          "output_type": "execute_result",
          "data": {
            "text/plain": [
              "Abertura                 0\n",
              "Máxima                   0\n",
              "Mínima                   0\n",
              "Fechamento               0\n",
              "VWAP D                   0\n",
              "VWAP S                   0\n",
              "Variação Diária          1\n",
              "Variação Candle          0\n",
              "Volatilidade Intraday    0\n",
              "Amplitude Diária         0\n",
              "Variação Candle.1        0\n",
              "dtype: int64"
            ]
          },
          "metadata": {
            "tags": []
          },
          "execution_count": 116
        }
      ]
    },
    {
      "cell_type": "code",
      "metadata": {
        "id": "ScHs7NSKIDiu",
        "colab_type": "code",
        "outputId": "71338d1c-074f-48c2-dea2-cc7cfecb0a7e",
        "colab": {
          "base_uri": "https://localhost:8080/",
          "height": 450
        }
      },
      "source": [
        "#Eliminando os Valores ausentes.\n",
        "df.dropna(axis=1)"
      ],
      "execution_count": 117,
      "outputs": [
        {
          "output_type": "execute_result",
          "data": {
            "text/html": [
              "<div>\n",
              "<style scoped>\n",
              "    .dataframe tbody tr th:only-of-type {\n",
              "        vertical-align: middle;\n",
              "    }\n",
              "\n",
              "    .dataframe tbody tr th {\n",
              "        vertical-align: top;\n",
              "    }\n",
              "\n",
              "    .dataframe thead th {\n",
              "        text-align: right;\n",
              "    }\n",
              "</style>\n",
              "<table border=\"1\" class=\"dataframe\">\n",
              "  <thead>\n",
              "    <tr style=\"text-align: right;\">\n",
              "      <th></th>\n",
              "      <th>Abertura</th>\n",
              "      <th>Máxima</th>\n",
              "      <th>Mínima</th>\n",
              "      <th>Fechamento</th>\n",
              "      <th>VWAP D</th>\n",
              "      <th>VWAP S</th>\n",
              "      <th>Variação Candle</th>\n",
              "      <th>Volatilidade Intraday</th>\n",
              "      <th>Amplitude Diária</th>\n",
              "      <th>Variação Candle.1</th>\n",
              "    </tr>\n",
              "    <tr>\n",
              "      <th>Data</th>\n",
              "      <th></th>\n",
              "      <th></th>\n",
              "      <th></th>\n",
              "      <th></th>\n",
              "      <th></th>\n",
              "      <th></th>\n",
              "      <th></th>\n",
              "      <th></th>\n",
              "      <th></th>\n",
              "      <th></th>\n",
              "    </tr>\n",
              "  </thead>\n",
              "  <tbody>\n",
              "    <tr>\n",
              "      <th>2020-03-27</th>\n",
              "      <td>74860.00</td>\n",
              "      <td>75800.00</td>\n",
              "      <td>72510.00</td>\n",
              "      <td>73325.00</td>\n",
              "      <td>74054.44</td>\n",
              "      <td>71809.11</td>\n",
              "      <td>0.020505</td>\n",
              "      <td>3290.00</td>\n",
              "      <td>-4310.00</td>\n",
              "      <td>1535.00</td>\n",
              "    </tr>\n",
              "    <tr>\n",
              "      <th>2020-03-26</th>\n",
              "      <td>72890.00</td>\n",
              "      <td>78850.00</td>\n",
              "      <td>72225.00</td>\n",
              "      <td>77635.00</td>\n",
              "      <td>76897.06</td>\n",
              "      <td>71378.13</td>\n",
              "      <td>-0.065098</td>\n",
              "      <td>6625.00</td>\n",
              "      <td>3035.00</td>\n",
              "      <td>-4745.00</td>\n",
              "    </tr>\n",
              "    <tr>\n",
              "      <th>2020-03-25</th>\n",
              "      <td>68890.00</td>\n",
              "      <td>76890.00</td>\n",
              "      <td>67700.00</td>\n",
              "      <td>74600.00</td>\n",
              "      <td>73051.18</td>\n",
              "      <td>69466.39</td>\n",
              "      <td>-0.082886</td>\n",
              "      <td>9190.00</td>\n",
              "      <td>5600.00</td>\n",
              "      <td>-5710.00</td>\n",
              "    </tr>\n",
              "    <tr>\n",
              "      <th>2020-03-24</th>\n",
              "      <td>67990.00</td>\n",
              "      <td>71575.00</td>\n",
              "      <td>66675.00</td>\n",
              "      <td>69000.00</td>\n",
              "      <td>69581.26</td>\n",
              "      <td>67054.81</td>\n",
              "      <td>-0.014855</td>\n",
              "      <td>4900.00</td>\n",
              "      <td>5135.00</td>\n",
              "      <td>-1010.00</td>\n",
              "    </tr>\n",
              "    <tr>\n",
              "      <th>2020-03-23</th>\n",
              "      <td>64295.00</td>\n",
              "      <td>69990.00</td>\n",
              "      <td>61905.00</td>\n",
              "      <td>63865.00</td>\n",
              "      <td>64274.68</td>\n",
              "      <td>65253.33</td>\n",
              "      <td>0.006688</td>\n",
              "      <td>8085.00</td>\n",
              "      <td>-2335.00</td>\n",
              "      <td>430.00</td>\n",
              "    </tr>\n",
              "    <tr>\n",
              "      <th>...</th>\n",
              "      <td>...</td>\n",
              "      <td>...</td>\n",
              "      <td>...</td>\n",
              "      <td>...</td>\n",
              "      <td>...</td>\n",
              "      <td>...</td>\n",
              "      <td>...</td>\n",
              "      <td>...</td>\n",
              "      <td>...</td>\n",
              "      <td>...</td>\n",
              "    </tr>\n",
              "    <tr>\n",
              "      <th>2003-01-08</th>\n",
              "      <td>58274.91</td>\n",
              "      <td>58754.93</td>\n",
              "      <td>56882.84</td>\n",
              "      <td>57074.85</td>\n",
              "      <td>57746.88</td>\n",
              "      <td>58066.81</td>\n",
              "      <td>0.020593</td>\n",
              "      <td>1872.09</td>\n",
              "      <td>-1248.07</td>\n",
              "      <td>1200.06</td>\n",
              "    </tr>\n",
              "    <tr>\n",
              "      <th>2003-01-07</th>\n",
              "      <td>58322.92</td>\n",
              "      <td>58850.94</td>\n",
              "      <td>57938.89</td>\n",
              "      <td>58322.92</td>\n",
              "      <td>58358.92</td>\n",
              "      <td>58347.46</td>\n",
              "      <td>0.000000</td>\n",
              "      <td>912.05</td>\n",
              "      <td>-480.02</td>\n",
              "      <td>0.00</td>\n",
              "    </tr>\n",
              "    <tr>\n",
              "      <th>2003-01-06</th>\n",
              "      <td>57314.86</td>\n",
              "      <td>58898.94</td>\n",
              "      <td>57266.86</td>\n",
              "      <td>58802.94</td>\n",
              "      <td>58070.90</td>\n",
              "      <td>58322.91</td>\n",
              "      <td>-0.025963</td>\n",
              "      <td>1632.08</td>\n",
              "      <td>1776.09</td>\n",
              "      <td>-1488.08</td>\n",
              "    </tr>\n",
              "    <tr>\n",
              "      <th>2003-01-03</th>\n",
              "      <td>57362.87</td>\n",
              "      <td>58034.89</td>\n",
              "      <td>56930.84</td>\n",
              "      <td>57026.85</td>\n",
              "      <td>57338.86</td>\n",
              "      <td>56922.46</td>\n",
              "      <td>0.005858</td>\n",
              "      <td>1104.05</td>\n",
              "      <td>96.01</td>\n",
              "      <td>336.02</td>\n",
              "    </tr>\n",
              "    <tr>\n",
              "      <th>2003-01-02</th>\n",
              "      <td>55010.75</td>\n",
              "      <td>57074.85</td>\n",
              "      <td>55010.75</td>\n",
              "      <td>56930.84</td>\n",
              "      <td>56006.80</td>\n",
              "      <td>56338.81</td>\n",
              "      <td>-0.034904</td>\n",
              "      <td>2064.10</td>\n",
              "      <td>56930.84</td>\n",
              "      <td>-1920.09</td>\n",
              "    </tr>\n",
              "  </tbody>\n",
              "</table>\n",
              "<p>4262 rows × 10 columns</p>\n",
              "</div>"
            ],
            "text/plain": [
              "            Abertura    Máxima  ...  Amplitude Diária  Variação Candle.1\n",
              "Data                            ...                                     \n",
              "2020-03-27  74860.00  75800.00  ...          -4310.00            1535.00\n",
              "2020-03-26  72890.00  78850.00  ...           3035.00           -4745.00\n",
              "2020-03-25  68890.00  76890.00  ...           5600.00           -5710.00\n",
              "2020-03-24  67990.00  71575.00  ...           5135.00           -1010.00\n",
              "2020-03-23  64295.00  69990.00  ...          -2335.00             430.00\n",
              "...              ...       ...  ...               ...                ...\n",
              "2003-01-08  58274.91  58754.93  ...          -1248.07            1200.06\n",
              "2003-01-07  58322.92  58850.94  ...           -480.02               0.00\n",
              "2003-01-06  57314.86  58898.94  ...           1776.09           -1488.08\n",
              "2003-01-03  57362.87  58034.89  ...             96.01             336.02\n",
              "2003-01-02  55010.75  57074.85  ...          56930.84           -1920.09\n",
              "\n",
              "[4262 rows x 10 columns]"
            ]
          },
          "metadata": {
            "tags": []
          },
          "execution_count": 117
        }
      ]
    },
    {
      "cell_type": "code",
      "metadata": {
        "id": "ksjT3LfMIsR6",
        "colab_type": "code",
        "outputId": "3e19ae4f-3fc9-4564-eac2-6deda4da0276",
        "colab": {
          "base_uri": "https://localhost:8080/",
          "height": 221
        }
      },
      "source": [
        "df.isnull().sum()"
      ],
      "execution_count": 118,
      "outputs": [
        {
          "output_type": "execute_result",
          "data": {
            "text/plain": [
              "Abertura                 0\n",
              "Máxima                   0\n",
              "Mínima                   0\n",
              "Fechamento               0\n",
              "VWAP D                   0\n",
              "VWAP S                   0\n",
              "Variação Diária          1\n",
              "Variação Candle          0\n",
              "Volatilidade Intraday    0\n",
              "Amplitude Diária         0\n",
              "Variação Candle.1        0\n",
              "dtype: int64"
            ]
          },
          "metadata": {
            "tags": []
          },
          "execution_count": 118
        }
      ]
    },
    {
      "cell_type": "code",
      "metadata": {
        "id": "69y3LhAEKACP",
        "colab_type": "code",
        "outputId": "0085401a-5a6d-430f-b1d2-f0aadbf796a5",
        "colab": {
          "base_uri": "https://localhost:8080/",
          "height": 297
        }
      },
      "source": [
        "df.describe()"
      ],
      "execution_count": 119,
      "outputs": [
        {
          "output_type": "execute_result",
          "data": {
            "text/html": [
              "<div>\n",
              "<style scoped>\n",
              "    .dataframe tbody tr th:only-of-type {\n",
              "        vertical-align: middle;\n",
              "    }\n",
              "\n",
              "    .dataframe tbody tr th {\n",
              "        vertical-align: top;\n",
              "    }\n",
              "\n",
              "    .dataframe thead th {\n",
              "        text-align: right;\n",
              "    }\n",
              "</style>\n",
              "<table border=\"1\" class=\"dataframe\">\n",
              "  <thead>\n",
              "    <tr style=\"text-align: right;\">\n",
              "      <th></th>\n",
              "      <th>Abertura</th>\n",
              "      <th>Máxima</th>\n",
              "      <th>Mínima</th>\n",
              "      <th>Fechamento</th>\n",
              "      <th>VWAP D</th>\n",
              "      <th>VWAP S</th>\n",
              "      <th>Variação Diária</th>\n",
              "      <th>Variação Candle</th>\n",
              "      <th>Volatilidade Intraday</th>\n",
              "      <th>Amplitude Diária</th>\n",
              "      <th>Variação Candle.1</th>\n",
              "    </tr>\n",
              "  </thead>\n",
              "  <tbody>\n",
              "    <tr>\n",
              "      <th>count</th>\n",
              "      <td>4262.000000</td>\n",
              "      <td>4262.000000</td>\n",
              "      <td>4262.000000</td>\n",
              "      <td>4262.000000</td>\n",
              "      <td>4262.000000</td>\n",
              "      <td>4262.000000</td>\n",
              "      <td>4261.000000</td>\n",
              "      <td>4262.000000</td>\n",
              "      <td>4262.000000</td>\n",
              "      <td>4262.000000</td>\n",
              "      <td>4262.000000</td>\n",
              "    </tr>\n",
              "    <tr>\n",
              "      <th>mean</th>\n",
              "      <td>99564.765406</td>\n",
              "      <td>100653.945547</td>\n",
              "      <td>98438.311649</td>\n",
              "      <td>99575.485542</td>\n",
              "      <td>99602.374582</td>\n",
              "      <td>99535.479350</td>\n",
              "      <td>0.000225</td>\n",
              "      <td>-0.000289</td>\n",
              "      <td>2215.633897</td>\n",
              "      <td>17.204364</td>\n",
              "      <td>-10.720136</td>\n",
              "    </tr>\n",
              "    <tr>\n",
              "      <th>std</th>\n",
              "      <td>26112.991842</td>\n",
              "      <td>26333.626147</td>\n",
              "      <td>25836.372625</td>\n",
              "      <td>26095.646110</td>\n",
              "      <td>26103.768322</td>\n",
              "      <td>26046.665862</td>\n",
              "      <td>0.018169</td>\n",
              "      <td>0.015718</td>\n",
              "      <td>1321.479180</td>\n",
              "      <td>2022.870844</td>\n",
              "      <td>1600.728047</td>\n",
              "    </tr>\n",
              "    <tr>\n",
              "      <th>min</th>\n",
              "      <td>47171.590000</td>\n",
              "      <td>48233.180000</td>\n",
              "      <td>47125.430000</td>\n",
              "      <td>47310.060000</td>\n",
              "      <td>47690.850000</td>\n",
              "      <td>48225.100000</td>\n",
              "      <td>-0.130238</td>\n",
              "      <td>-0.083980</td>\n",
              "      <td>270.620000</td>\n",
              "      <td>-12060.000000</td>\n",
              "      <td>-9884.390000</td>\n",
              "    </tr>\n",
              "    <tr>\n",
              "      <th>25%</th>\n",
              "      <td>81581.355000</td>\n",
              "      <td>82470.072500</td>\n",
              "      <td>80631.235000</td>\n",
              "      <td>81537.210000</td>\n",
              "      <td>81647.652500</td>\n",
              "      <td>81689.622500</td>\n",
              "      <td>-0.009346</td>\n",
              "      <td>-0.009676</td>\n",
              "      <td>1388.265000</td>\n",
              "      <td>-894.422500</td>\n",
              "      <td>-925.530000</td>\n",
              "    </tr>\n",
              "    <tr>\n",
              "      <th>50%</th>\n",
              "      <td>93899.050000</td>\n",
              "      <td>95170.400000</td>\n",
              "      <td>92638.205000</td>\n",
              "      <td>93943.745000</td>\n",
              "      <td>94005.435000</td>\n",
              "      <td>93932.975000</td>\n",
              "      <td>0.000463</td>\n",
              "      <td>-0.000432</td>\n",
              "      <td>1881.130000</td>\n",
              "      <td>48.640000</td>\n",
              "      <td>-36.630000</td>\n",
              "    </tr>\n",
              "    <tr>\n",
              "      <th>75%</th>\n",
              "      <td>115300.340000</td>\n",
              "      <td>116611.632500</td>\n",
              "      <td>114160.860000</td>\n",
              "      <td>115343.520000</td>\n",
              "      <td>115532.535000</td>\n",
              "      <td>115421.312500</td>\n",
              "      <td>0.010101</td>\n",
              "      <td>0.008841</td>\n",
              "      <td>2620.725000</td>\n",
              "      <td>962.050000</td>\n",
              "      <td>840.952500</td>\n",
              "    </tr>\n",
              "    <tr>\n",
              "      <th>max</th>\n",
              "      <td>184941.560000</td>\n",
              "      <td>185939.890000</td>\n",
              "      <td>182071.340000</td>\n",
              "      <td>184542.220000</td>\n",
              "      <td>183830.910000</td>\n",
              "      <td>183959.860000</td>\n",
              "      <td>0.143055</td>\n",
              "      <td>0.109283</td>\n",
              "      <td>12354.390000</td>\n",
              "      <td>56930.840000</td>\n",
              "      <td>10971.440000</td>\n",
              "    </tr>\n",
              "  </tbody>\n",
              "</table>\n",
              "</div>"
            ],
            "text/plain": [
              "            Abertura         Máxima  ...  Amplitude Diária  Variação Candle.1\n",
              "count    4262.000000    4262.000000  ...       4262.000000        4262.000000\n",
              "mean    99564.765406  100653.945547  ...         17.204364         -10.720136\n",
              "std     26112.991842   26333.626147  ...       2022.870844        1600.728047\n",
              "min     47171.590000   48233.180000  ...     -12060.000000       -9884.390000\n",
              "25%     81581.355000   82470.072500  ...       -894.422500        -925.530000\n",
              "50%     93899.050000   95170.400000  ...         48.640000         -36.630000\n",
              "75%    115300.340000  116611.632500  ...        962.050000         840.952500\n",
              "max    184941.560000  185939.890000  ...      56930.840000       10971.440000\n",
              "\n",
              "[8 rows x 11 columns]"
            ]
          },
          "metadata": {
            "tags": []
          },
          "execution_count": 119
        }
      ]
    },
    {
      "cell_type": "code",
      "metadata": {
        "id": "AG-1MNXvurUl",
        "colab_type": "code",
        "colab": {
          "base_uri": "https://localhost:8080/",
          "height": 369
        },
        "outputId": "6f9fb22e-dfb9-4913-e320-4aedac1a40d8"
      },
      "source": [
        "#Plotagem do Gráfico baseado na VWAP\n",
        "fig, ax=plt.subplots()\n",
        "\n",
        "df[\"VWAP D\"].plot(kind=\"line\", ax=ax, figsize=(25, 5))\n",
        "\n",
        "\n",
        "plt.tight_layout();\n",
        "\n",
        "\n",
        "\n",
        "\n",
        "\n"
      ],
      "execution_count": 131,
      "outputs": [
        {
          "output_type": "display_data",
          "data": {
            "image/png": "[encoded data removed]",
            "text/plain": [
              "<Figure size 1800x360 with 1 Axes>"
            ]
          },
          "metadata": {
            "tags": []
          }
        }
      ]
    },
    {
      "cell_type": "code",
      "metadata": {
        "id": "0z2CYU4yLwYG",
        "colab_type": "code",
        "colab": {
          "base_uri": "https://localhost:8080/",
          "height": 369
        },
        "outputId": "4e5e3ea2-7cca-4f75-dbc6-4cfab54269e1"
      },
      "source": [
        "#Histograma variação percentual diária\n",
        "\n",
        "import numpy as np\n",
        "fig, ax=plt.subplots()\n",
        "\n",
        "\n",
        "df[\"Variação Diária\"].plot(kind=\"hist\", ax=ax, bins=1000, density=True, figsize=(25, 5))\n",
        "ax.set_title(\"INDFUT\")\n",
        "\n",
        "plt.tight_layout();"
      ],
      "execution_count": 128,
      "outputs": [
        {
          "output_type": "display_data",
          "data": {
            "image/png": "[encoded data removed]",
            "text/plain": [
              "<Figure size 1800x360 with 1 Axes>"
            ]
          },
          "metadata": {
            "tags": []
          }
        }
      ]
    }
  ]
}